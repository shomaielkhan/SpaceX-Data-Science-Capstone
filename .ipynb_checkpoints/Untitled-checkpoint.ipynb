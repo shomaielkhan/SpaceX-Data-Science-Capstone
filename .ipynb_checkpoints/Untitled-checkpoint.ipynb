{
 "cells": [
  {
   "cell_type": "code",
   "execution_count": 1,
   "id": "07dbc0b2-2e10-4024-befd-9d76c69caf70",
   "metadata": {},
   "outputs": [
    {
     "name": "stdout",
     "output_type": "stream",
     "text": [
      "Requirement already satisfied: pandas in c:\\users\\user-pc\\anaconda3\\lib\\site-packages (2.2.3)\n",
      "Requirement already satisfied: dash in c:\\users\\user-pc\\anaconda3\\lib\\site-packages (3.2.0)\n",
      "Requirement already satisfied: plotly in c:\\users\\user-pc\\anaconda3\\lib\\site-packages (6.3.0)\n",
      "Requirement already satisfied: numpy>=1.26.0 in c:\\users\\user-pc\\anaconda3\\lib\\site-packages (from pandas) (2.1.3)\n",
      "Requirement already satisfied: python-dateutil>=2.8.2 in c:\\users\\user-pc\\anaconda3\\lib\\site-packages (from pandas) (2.9.0.post0)\n",
      "Requirement already satisfied: pytz>=2020.1 in c:\\users\\user-pc\\anaconda3\\lib\\site-packages (from pandas) (2024.1)\n",
      "Requirement already satisfied: tzdata>=2022.7 in c:\\users\\user-pc\\anaconda3\\lib\\site-packages (from pandas) (2025.2)\n",
      "Requirement already satisfied: Flask<3.2,>=1.0.4 in c:\\users\\user-pc\\anaconda3\\lib\\site-packages (from dash) (3.1.0)\n",
      "Requirement already satisfied: Werkzeug<3.2 in c:\\users\\user-pc\\anaconda3\\lib\\site-packages (from dash) (3.1.3)\n",
      "Requirement already satisfied: importlib-metadata in c:\\users\\user-pc\\anaconda3\\lib\\site-packages (from dash) (8.5.0)\n",
      "Requirement already satisfied: typing-extensions>=4.1.1 in c:\\users\\user-pc\\anaconda3\\lib\\site-packages (from dash) (4.12.2)\n",
      "Requirement already satisfied: requests in c:\\users\\user-pc\\anaconda3\\lib\\site-packages (from dash) (2.32.3)\n",
      "Requirement already satisfied: retrying in c:\\users\\user-pc\\anaconda3\\lib\\site-packages (from dash) (1.4.2)\n",
      "Requirement already satisfied: nest-asyncio in c:\\users\\user-pc\\anaconda3\\lib\\site-packages (from dash) (1.6.0)\n",
      "Requirement already satisfied: setuptools in c:\\users\\user-pc\\anaconda3\\lib\\site-packages (from dash) (72.1.0)\n",
      "Requirement already satisfied: Jinja2>=3.1.2 in c:\\users\\user-pc\\anaconda3\\lib\\site-packages (from Flask<3.2,>=1.0.4->dash) (3.1.6)\n",
      "Requirement already satisfied: itsdangerous>=2.2 in c:\\users\\user-pc\\anaconda3\\lib\\site-packages (from Flask<3.2,>=1.0.4->dash) (2.2.0)\n",
      "Requirement already satisfied: click>=8.1.3 in c:\\users\\user-pc\\anaconda3\\lib\\site-packages (from Flask<3.2,>=1.0.4->dash) (8.1.8)\n",
      "Requirement already satisfied: blinker>=1.9 in c:\\users\\user-pc\\anaconda3\\lib\\site-packages (from Flask<3.2,>=1.0.4->dash) (1.9.0)\n",
      "Requirement already satisfied: MarkupSafe>=2.1.1 in c:\\users\\user-pc\\anaconda3\\lib\\site-packages (from Werkzeug<3.2->dash) (3.0.2)\n",
      "Requirement already satisfied: narwhals>=1.15.1 in c:\\users\\user-pc\\anaconda3\\lib\\site-packages (from plotly) (1.31.0)\n",
      "Requirement already satisfied: packaging in c:\\users\\user-pc\\anaconda3\\lib\\site-packages (from plotly) (24.2)\n",
      "Requirement already satisfied: colorama in c:\\users\\user-pc\\anaconda3\\lib\\site-packages (from click>=8.1.3->Flask<3.2,>=1.0.4->dash) (0.4.6)\n",
      "Requirement already satisfied: six>=1.5 in c:\\users\\user-pc\\anaconda3\\lib\\site-packages (from python-dateutil>=2.8.2->pandas) (1.17.0)\n",
      "Requirement already satisfied: zipp>=3.20 in c:\\users\\user-pc\\anaconda3\\lib\\site-packages (from importlib-metadata->dash) (3.21.0)\n",
      "Requirement already satisfied: charset-normalizer<4,>=2 in c:\\users\\user-pc\\anaconda3\\lib\\site-packages (from requests->dash) (3.3.2)\n",
      "Requirement already satisfied: idna<4,>=2.5 in c:\\users\\user-pc\\anaconda3\\lib\\site-packages (from requests->dash) (3.7)\n",
      "Requirement already satisfied: urllib3<3,>=1.21.1 in c:\\users\\user-pc\\anaconda3\\lib\\site-packages (from requests->dash) (2.3.0)\n",
      "Requirement already satisfied: certifi>=2017.4.17 in c:\\users\\user-pc\\anaconda3\\lib\\site-packages (from requests->dash) (2025.4.26)\n",
      "Note: you may need to restart the kernel to use updated packages.\n"
     ]
    }
   ],
   "source": [
    "pip install pandas dash plotly"
   ]
  },
  {
   "cell_type": "code",
   "execution_count": 13,
   "id": "e8dc827c-340c-4044-9ce0-841458290174",
   "metadata": {},
   "outputs": [
    {
     "name": "stdout",
     "output_type": "stream",
     "text": [
      "Collecting jupyter-dashNote: you may need to restart the kernel to use updated packages.\n",
      "\n",
      "  Downloading jupyter_dash-0.4.2-py3-none-any.whl.metadata (3.6 kB)\n",
      "Requirement already satisfied: dash in c:\\users\\user-pc\\anaconda3\\lib\\site-packages (from jupyter-dash) (3.2.0)\n",
      "Requirement already satisfied: requests in c:\\users\\user-pc\\anaconda3\\lib\\site-packages (from jupyter-dash) (2.32.3)\n",
      "Requirement already satisfied: flask in c:\\users\\user-pc\\anaconda3\\lib\\site-packages (from jupyter-dash) (3.1.0)\n",
      "Requirement already satisfied: retrying in c:\\users\\user-pc\\anaconda3\\lib\\site-packages (from jupyter-dash) (1.4.2)\n",
      "Requirement already satisfied: ipython in c:\\users\\user-pc\\anaconda3\\lib\\site-packages (from jupyter-dash) (8.30.0)\n",
      "Requirement already satisfied: ipykernel in c:\\users\\user-pc\\anaconda3\\lib\\site-packages (from jupyter-dash) (6.29.5)\n",
      "Collecting ansi2html (from jupyter-dash)\n",
      "  Downloading ansi2html-1.9.2-py3-none-any.whl.metadata (3.7 kB)\n",
      "Requirement already satisfied: nest-asyncio in c:\\users\\user-pc\\anaconda3\\lib\\site-packages (from jupyter-dash) (1.6.0)\n",
      "Requirement already satisfied: Werkzeug<3.2 in c:\\users\\user-pc\\anaconda3\\lib\\site-packages (from dash->jupyter-dash) (3.1.3)\n",
      "Requirement already satisfied: plotly>=5.0.0 in c:\\users\\user-pc\\anaconda3\\lib\\site-packages (from dash->jupyter-dash) (6.3.0)\n",
      "Requirement already satisfied: importlib-metadata in c:\\users\\user-pc\\anaconda3\\lib\\site-packages (from dash->jupyter-dash) (8.5.0)\n",
      "Requirement already satisfied: typing-extensions>=4.1.1 in c:\\users\\user-pc\\anaconda3\\lib\\site-packages (from dash->jupyter-dash) (4.12.2)\n",
      "Requirement already satisfied: setuptools in c:\\users\\user-pc\\anaconda3\\lib\\site-packages (from dash->jupyter-dash) (72.1.0)\n",
      "Requirement already satisfied: Jinja2>=3.1.2 in c:\\users\\user-pc\\anaconda3\\lib\\site-packages (from flask->jupyter-dash) (3.1.6)\n",
      "Requirement already satisfied: itsdangerous>=2.2 in c:\\users\\user-pc\\anaconda3\\lib\\site-packages (from flask->jupyter-dash) (2.2.0)\n",
      "Requirement already satisfied: click>=8.1.3 in c:\\users\\user-pc\\anaconda3\\lib\\site-packages (from flask->jupyter-dash) (8.1.8)\n",
      "Requirement already satisfied: blinker>=1.9 in c:\\users\\user-pc\\anaconda3\\lib\\site-packages (from flask->jupyter-dash) (1.9.0)\n",
      "Requirement already satisfied: MarkupSafe>=2.1.1 in c:\\users\\user-pc\\anaconda3\\lib\\site-packages (from Werkzeug<3.2->dash->jupyter-dash) (3.0.2)\n",
      "Requirement already satisfied: colorama in c:\\users\\user-pc\\anaconda3\\lib\\site-packages (from click>=8.1.3->flask->jupyter-dash) (0.4.6)\n",
      "Requirement already satisfied: narwhals>=1.15.1 in c:\\users\\user-pc\\anaconda3\\lib\\site-packages (from plotly>=5.0.0->dash->jupyter-dash) (1.31.0)\n",
      "Requirement already satisfied: packaging in c:\\users\\user-pc\\anaconda3\\lib\\site-packages (from plotly>=5.0.0->dash->jupyter-dash) (24.2)\n",
      "Requirement already satisfied: zipp>=3.20 in c:\\users\\user-pc\\anaconda3\\lib\\site-packages (from importlib-metadata->dash->jupyter-dash) (3.21.0)\n",
      "Requirement already satisfied: comm>=0.1.1 in c:\\users\\user-pc\\anaconda3\\lib\\site-packages (from ipykernel->jupyter-dash) (0.2.1)\n",
      "Requirement already satisfied: debugpy>=1.6.5 in c:\\users\\user-pc\\anaconda3\\lib\\site-packages (from ipykernel->jupyter-dash) (1.8.11)\n",
      "Requirement already satisfied: jupyter-client>=6.1.12 in c:\\users\\user-pc\\anaconda3\\lib\\site-packages (from ipykernel->jupyter-dash) (8.6.3)\n",
      "Requirement already satisfied: jupyter-core!=5.0.*,>=4.12 in c:\\users\\user-pc\\anaconda3\\lib\\site-packages (from ipykernel->jupyter-dash) (5.7.2)\n",
      "Requirement already satisfied: matplotlib-inline>=0.1 in c:\\users\\user-pc\\anaconda3\\lib\\site-packages (from ipykernel->jupyter-dash) (0.1.6)\n",
      "Requirement already satisfied: psutil in c:\\users\\user-pc\\anaconda3\\lib\\site-packages (from ipykernel->jupyter-dash) (5.9.0)\n",
      "Requirement already satisfied: pyzmq>=24 in c:\\users\\user-pc\\anaconda3\\lib\\site-packages (from ipykernel->jupyter-dash) (26.2.0)\n",
      "Requirement already satisfied: tornado>=6.1 in c:\\users\\user-pc\\anaconda3\\lib\\site-packages (from ipykernel->jupyter-dash) (6.5.1)\n",
      "Requirement already satisfied: traitlets>=5.4.0 in c:\\users\\user-pc\\anaconda3\\lib\\site-packages (from ipykernel->jupyter-dash) (5.14.3)\n",
      "Requirement already satisfied: decorator in c:\\users\\user-pc\\anaconda3\\lib\\site-packages (from ipython->jupyter-dash) (5.1.1)\n",
      "Requirement already satisfied: jedi>=0.16 in c:\\users\\user-pc\\anaconda3\\lib\\site-packages (from ipython->jupyter-dash) (0.19.2)\n",
      "Requirement already satisfied: prompt-toolkit<3.1.0,>=3.0.41 in c:\\users\\user-pc\\anaconda3\\lib\\site-packages (from ipython->jupyter-dash) (3.0.43)\n",
      "Requirement already satisfied: pygments>=2.4.0 in c:\\users\\user-pc\\anaconda3\\lib\\site-packages (from ipython->jupyter-dash) (2.19.1)\n",
      "Requirement already satisfied: stack-data in c:\\users\\user-pc\\anaconda3\\lib\\site-packages (from ipython->jupyter-dash) (0.2.0)\n",
      "Requirement already satisfied: wcwidth in c:\\users\\user-pc\\anaconda3\\lib\\site-packages (from prompt-toolkit<3.1.0,>=3.0.41->ipython->jupyter-dash) (0.2.5)\n",
      "Requirement already satisfied: parso<0.9.0,>=0.8.4 in c:\\users\\user-pc\\anaconda3\\lib\\site-packages (from jedi>=0.16->ipython->jupyter-dash) (0.8.4)\n",
      "Requirement already satisfied: python-dateutil>=2.8.2 in c:\\users\\user-pc\\anaconda3\\lib\\site-packages (from jupyter-client>=6.1.12->ipykernel->jupyter-dash) (2.9.0.post0)\n",
      "Requirement already satisfied: platformdirs>=2.5 in c:\\users\\user-pc\\anaconda3\\lib\\site-packages (from jupyter-core!=5.0.*,>=4.12->ipykernel->jupyter-dash) (4.3.7)\n",
      "Requirement already satisfied: pywin32>=300 in c:\\users\\user-pc\\anaconda3\\lib\\site-packages (from jupyter-core!=5.0.*,>=4.12->ipykernel->jupyter-dash) (308)\n",
      "Requirement already satisfied: six>=1.5 in c:\\users\\user-pc\\anaconda3\\lib\\site-packages (from python-dateutil>=2.8.2->jupyter-client>=6.1.12->ipykernel->jupyter-dash) (1.17.0)\n",
      "Requirement already satisfied: charset-normalizer<4,>=2 in c:\\users\\user-pc\\anaconda3\\lib\\site-packages (from requests->jupyter-dash) (3.3.2)\n",
      "Requirement already satisfied: idna<4,>=2.5 in c:\\users\\user-pc\\anaconda3\\lib\\site-packages (from requests->jupyter-dash) (3.7)\n",
      "Requirement already satisfied: urllib3<3,>=1.21.1 in c:\\users\\user-pc\\anaconda3\\lib\\site-packages (from requests->jupyter-dash) (2.3.0)\n",
      "Requirement already satisfied: certifi>=2017.4.17 in c:\\users\\user-pc\\anaconda3\\lib\\site-packages (from requests->jupyter-dash) (2025.4.26)\n",
      "Requirement already satisfied: executing in c:\\users\\user-pc\\anaconda3\\lib\\site-packages (from stack-data->ipython->jupyter-dash) (0.8.3)\n",
      "Requirement already satisfied: asttokens in c:\\users\\user-pc\\anaconda3\\lib\\site-packages (from stack-data->ipython->jupyter-dash) (3.0.0)\n",
      "Requirement already satisfied: pure-eval in c:\\users\\user-pc\\anaconda3\\lib\\site-packages (from stack-data->ipython->jupyter-dash) (0.2.2)\n",
      "Downloading jupyter_dash-0.4.2-py3-none-any.whl (23 kB)\n",
      "Downloading ansi2html-1.9.2-py3-none-any.whl (17 kB)\n",
      "Installing collected packages: ansi2html, jupyter-dash\n",
      "\n",
      "   -------------------- ------------------- 1/2 [jupyter-dash]\n",
      "   ---------------------------------------- 2/2 [jupyter-dash]\n",
      "\n",
      "Successfully installed ansi2html-1.9.2 jupyter-dash-0.4.2\n"
     ]
    }
   ],
   "source": [
    "pip install jupyter-dash"
   ]
  },
  {
   "cell_type": "code",
   "execution_count": 17,
   "id": "c7bcdfc1-3fde-47b4-bd4d-2ce782fd37f5",
   "metadata": {},
   "outputs": [
    {
     "ename": "ModuleNotFoundError",
     "evalue": "No module named 'JupyterDash'",
     "output_type": "error",
     "traceback": [
      "\u001b[1;31m---------------------------------------------------------------------------\u001b[0m",
      "\u001b[1;31mModuleNotFoundError\u001b[0m                       Traceback (most recent call last)",
      "Cell \u001b[1;32mIn[17], line 5\u001b[0m\n\u001b[0;32m      3\u001b[0m \u001b[38;5;28;01mimport\u001b[39;00m\u001b[38;5;250m \u001b[39m\u001b[38;5;21;01mplotly\u001b[39;00m\u001b[38;5;21;01m.\u001b[39;00m\u001b[38;5;21;01mexpress\u001b[39;00m\u001b[38;5;250m \u001b[39m\u001b[38;5;28;01mas\u001b[39;00m\u001b[38;5;250m \u001b[39m\u001b[38;5;21;01mpx\u001b[39;00m\n\u001b[0;32m      4\u001b[0m \u001b[38;5;28;01mimport\u001b[39;00m\u001b[38;5;250m \u001b[39m\u001b[38;5;21;01mpandas\u001b[39;00m\u001b[38;5;250m \u001b[39m\u001b[38;5;28;01mas\u001b[39;00m\u001b[38;5;250m \u001b[39m\u001b[38;5;21;01mpd\u001b[39;00m\n\u001b[1;32m----> 5\u001b[0m \u001b[38;5;28;01mimport\u001b[39;00m\u001b[38;5;250m \u001b[39m\u001b[38;5;21;01mJupyterDash\u001b[39;00m\n",
      "\u001b[1;31mModuleNotFoundError\u001b[0m: No module named 'JupyterDash'"
     ]
    }
   ],
   "source": [
    "import dash\n",
    "from dash import dcc,html\n",
    "import plotly.express as px\n",
    "import pandas as pd\n",
    "i"
   ]
  },
  {
   "cell_type": "code",
   "execution_count": 5,
   "id": "5023102e-f489-4959-804e-941194a648fa",
   "metadata": {},
   "outputs": [],
   "source": [
    "df=pd.read_csv(\"https://cf-courses-data.s3.us.cloud-object-storage.appdomain.cloud/IBM-DS0321EN-SkillsNetwork/datasets/dataset_part_2.csv\")"
   ]
  },
  {
   "cell_type": "code",
   "execution_count": 8,
   "id": "da0a1b9e-4a66-4662-b7f6-76b00523fa63",
   "metadata": {},
   "outputs": [],
   "source": [
    "# Plot a scatter point chart with x axis to be Pay Load Mass (kg) and y axis to be the launch site, and hue to be the class value\n",
    "fig1=px.scatter(\n",
    "    df,\n",
    "    x='PayloadMass',\n",
    "    y='LaunchSite',\n",
    "    color='Class',\n",
    "    title='Relationship between Flight Number and Launch Site'\n",
    "               )"
   ]
  },
  {
   "cell_type": "code",
   "execution_count": 9,
   "id": "a028f80f-eba9-4097-84d2-4c29049e0ace",
   "metadata": {},
   "outputs": [],
   "source": [
    "app=dash.Dash(__name__)"
   ]
  },
  {
   "cell_type": "code",
   "execution_count": 10,
   "id": "7ef20f10-5571-4087-9ba2-f922b386a73a",
   "metadata": {},
   "outputs": [],
   "source": [
    "app.layout=html.Div([\n",
    "    html.H1('SpaceX Launch Dashboard', style= {'textAlign':'center'}),\n",
    "    dcc.Graph(figure=fig1)\n",
    "])\n"
   ]
  },
  {
   "cell_type": "code",
   "execution_count": 16,
   "id": "dd9a61a6-7915-4eb0-a77c-8b8bd5c4bd4a",
   "metadata": {},
   "outputs": [
    {
     "ename": "NameError",
     "evalue": "name 'JupyterDash' is not defined",
     "output_type": "error",
     "traceback": [
      "\u001b[1;31m---------------------------------------------------------------------------\u001b[0m",
      "\u001b[1;31mNameError\u001b[0m                                 Traceback (most recent call last)",
      "Cell \u001b[1;32mIn[16], line 1\u001b[0m\n\u001b[1;32m----> 1\u001b[0m app \u001b[38;5;241m=\u001b[39m JupyterDash(\u001b[38;5;18m__name__\u001b[39m)\n\u001b[0;32m      2\u001b[0m app\u001b[38;5;241m.\u001b[39mlayout \u001b[38;5;241m=\u001b[39m html\u001b[38;5;241m.\u001b[39mDiv([dcc\u001b[38;5;241m.\u001b[39mGraph(figure\u001b[38;5;241m=\u001b[39mfig)])\n\u001b[0;32m      3\u001b[0m app\u001b[38;5;241m.\u001b[39mrun_server(mode\u001b[38;5;241m=\u001b[39m\u001b[38;5;124m'\u001b[39m\u001b[38;5;124minline\u001b[39m\u001b[38;5;124m'\u001b[39m)\n",
      "\u001b[1;31mNameError\u001b[0m: name 'JupyterDash' is not defined"
     ]
    }
   ],
   "source": [
    "app = JupyterDash(__name__)\n",
    "app.layout = html.Div([dcc.Graph(figure=fig)])\n",
    "app.run_server(mode='inline')"
   ]
  },
  {
   "cell_type": "code",
   "execution_count": null,
   "id": "f1a694be-6f36-4349-a6a2-57b72055a3c1",
   "metadata": {},
   "outputs": [],
   "source": []
  }
 ],
 "metadata": {
  "kernelspec": {
   "display_name": "Python 3 (ipykernel)",
   "language": "python",
   "name": "python3"
  },
  "language_info": {
   "codemirror_mode": {
    "name": "ipython",
    "version": 3
   },
   "file_extension": ".py",
   "mimetype": "text/x-python",
   "name": "python",
   "nbconvert_exporter": "python",
   "pygments_lexer": "ipython3",
   "version": "3.13.5"
  },
  "widgets": {
   "application/vnd.jupyter.widget-state+json": {
    "state": {},
    "version_major": 2,
    "version_minor": 0
   }
  }
 },
 "nbformat": 4,
 "nbformat_minor": 5
}
